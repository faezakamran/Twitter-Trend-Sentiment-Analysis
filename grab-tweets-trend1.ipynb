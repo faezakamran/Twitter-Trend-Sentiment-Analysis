{
 "cells": [
  {
   "cell_type": "markdown",
   "id": "651cbef0",
   "metadata": {},
   "source": [
    "This is used to download tweets, write sentiment score and create text file for word cloud. "
   ]
  },
  {
   "cell_type": "markdown",
   "id": "6d2e4dfe",
   "metadata": {},
   "source": [
    "# TREND 1"
   ]
  },
  {
   "cell_type": "code",
   "execution_count": 1,
   "id": "a5b6b9ad",
   "metadata": {},
   "outputs": [],
   "source": [
    "import snscrape.modules.twitter as sntwitter\n",
    "import pandas as pd\n",
    "from transformers import pipeline\n"
   ]
  },
  {
   "cell_type": "code",
   "execution_count": 2,
   "id": "8a2c5720",
   "metadata": {},
   "outputs": [],
   "source": [
    "#pipeline code\n",
    "model_path = f\"cardiffnlp/twitter-roberta-base-sentiment-latest\"\n",
    "sentiment_task = pipeline(\"sentiment-analysis\", model=model_path, tokenizer=model_path)\n",
    "\n",
    "#open word file for wordcloud\n",
    "wcuser = open('user-trend1.txt', 'a', encoding='utf-8')\n",
    "wccountry = open('country-trend1.txt', 'a', encoding='utf-8')"
   ]
  },
  {
   "cell_type": "code",
   "execution_count": 3,
   "id": "9edaa9c6",
   "metadata": {},
   "outputs": [],
   "source": [
    "#query = \"(from:elonmusk) until:2020-01-01 since:2010-01-01\"\n",
    "query = \"(from:#امپورٹڈ__حکومت__نامنظور)  until:2022-05-11 since:2022-05-10\"\n",
    "tweets = []\n",
    "limit = 20000"
   ]
  },
  {
   "cell_type": "code",
   "execution_count": 4,
   "id": "80f104e6",
   "metadata": {},
   "outputs": [],
   "source": [
    "for tweet in sntwitter.TwitterSearchScraper(query).get_items():\n",
    "    \n",
    "    # print(vars(tweet))\n",
    "    # break\n",
    "    if len(tweets) == limit:\n",
    "        break\n",
    "    else:\n",
    "        sentiment = sentiment_task(tweet.content)\n",
    "        label = sentiment[0]['label']\n",
    "        score = sentiment[0]['score']\n",
    "        \n",
    "        #appending to df\n",
    "        tweets.append([tweet.date, tweet.user.username, tweet.content, label, score])\n",
    "        \n",
    "        #appending to word file\n",
    "        wcuser.write(tweet.user.username)\n",
    "        wcuser.write('\\n')\n",
    "        \n",
    "        wccountry.write(tweet.user.location)\n",
    "        wccountry.write('\\n')"
   ]
  },
  {
   "cell_type": "code",
   "execution_count": 5,
   "id": "0c1c628a",
   "metadata": {},
   "outputs": [
    {
     "name": "stdout",
     "output_type": "stream",
     "text": [
      "863\n",
      "                       Date            User  \\\n",
      "0 2022-05-10 23:59:11+00:00         UKAwan5   \n",
      "1 2022-05-10 23:54:23+00:00  Adeeba33426430   \n",
      "2 2022-05-10 23:46:31+00:00  Hunter55379571   \n",
      "3 2022-05-10 23:32:36+00:00          G4_gul   \n",
      "4 2022-05-10 23:29:59+00:00  Insafi_Tigress   \n",
      "\n",
      "                                               Tweet     Label     Score  \n",
      "0  The architects of Regime Change Operation shou...   Neutral  0.706793  \n",
      "1  We are learning from him ❤️\\n#امپورٹڈ__حکومت__...  Positive  0.820766  \n",
      "2  @siasatpk #MarchAgainstImportedGovt  #امپورٹڈ_...   Neutral  0.544048  \n",
      "3  Phatwaris expectations from this idiot who cou...  Negative  0.908594  \n",
      "4  زبان خلق نقارہ خدا باجوہ کتا ۔میر جعفر پاک پوج...  Negative  0.496625  \n"
     ]
    }
   ],
   "source": [
    "df = pd.DataFrame(tweets, columns=['Date', 'User', 'Tweet', 'Label', 'Score'])\n",
    "\n",
    "#number of rows\n",
    "print(df.shape[0])\n",
    "\n",
    "print(df.head())\n"
   ]
  },
  {
   "cell_type": "code",
   "execution_count": 6,
   "id": "ffc3a6c5",
   "metadata": {},
   "outputs": [],
   "source": [
    "# to save to csv\n",
    "df.to_csv('tweets-trend1.csv', mode='a', index=False, header=False)\n",
    "\n",
    "# Close the file\n",
    "wcuser.close()\n",
    "wccountry.close()"
   ]
  },
  {
   "cell_type": "code",
   "execution_count": null,
   "id": "ad3bb1b2",
   "metadata": {},
   "outputs": [],
   "source": []
  }
 ],
 "metadata": {
  "kernelspec": {
   "display_name": "Python 3 (ipykernel)",
   "language": "python",
   "name": "python3"
  },
  "language_info": {
   "codemirror_mode": {
    "name": "ipython",
    "version": 3
   },
   "file_extension": ".py",
   "mimetype": "text/x-python",
   "name": "python",
   "nbconvert_exporter": "python",
   "pygments_lexer": "ipython3",
   "version": "3.9.7"
  }
 },
 "nbformat": 4,
 "nbformat_minor": 5
}
