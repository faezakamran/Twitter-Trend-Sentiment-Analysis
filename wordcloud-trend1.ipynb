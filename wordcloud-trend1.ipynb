{
 "cells": [
  {
   "cell_type": "markdown",
   "id": "876eaed3",
   "metadata": {},
   "source": [
    "Creates Word Cloud image/png from a text file"
   ]
  },
  {
   "cell_type": "code",
   "execution_count": 1,
   "id": "f5a753f7",
   "metadata": {},
   "outputs": [],
   "source": [
    "#Imports\n",
    "\n",
    "from pathlib import Path\n",
    "import matplotlib.pyplot as plt\n",
    "from wordcloud import STOPWORDS, WordCloud\n"
   ]
  },
  {
   "cell_type": "code",
   "execution_count": 2,
   "id": "1735c54f",
   "metadata": {},
   "outputs": [],
   "source": [
    "#open text file to read\n",
    "\n",
    "text = open(\"user-trend1.txt\", mode=\"r\", encoding=\"utf-8\").read()\n",
    "stopwords = STOPWORDS"
   ]
  },
  {
   "cell_type": "code",
   "execution_count": 3,
   "id": "9254e359",
   "metadata": {},
   "outputs": [
    {
     "data": {
      "text/plain": [
       "<wordcloud.wordcloud.WordCloud at 0x26e70b494f0>"
      ]
     },
     "execution_count": 3,
     "metadata": {},
     "output_type": "execute_result"
    }
   ],
   "source": [
    "#generate cloud\n",
    "\n",
    "wc = WordCloud(background_color=\"white\", stopwords=stopwords, width=630, height=150)\n",
    "wc.generate(text)\n"
   ]
  },
  {
   "cell_type": "code",
   "execution_count": 4,
   "id": "f08c79d9",
   "metadata": {},
   "outputs": [
    {
     "data": {
      "text/plain": [
       "<wordcloud.wordcloud.WordCloud at 0x26e70b494f0>"
      ]
     },
     "execution_count": 4,
     "metadata": {},
     "output_type": "execute_result"
    }
   ],
   "source": [
    "#write to image\n",
    "\n",
    "wc.to_file(\"wcuser_trend1.png\")"
   ]
  },
  {
   "cell_type": "code",
   "execution_count": null,
   "id": "5d29f6c2",
   "metadata": {},
   "outputs": [],
   "source": []
  }
 ],
 "metadata": {
  "kernelspec": {
   "display_name": "Python 3 (ipykernel)",
   "language": "python",
   "name": "python3"
  },
  "language_info": {
   "codemirror_mode": {
    "name": "ipython",
    "version": 3
   },
   "file_extension": ".py",
   "mimetype": "text/x-python",
   "name": "python",
   "nbconvert_exporter": "python",
   "pygments_lexer": "ipython3",
   "version": "3.9.7"
  }
 },
 "nbformat": 4,
 "nbformat_minor": 5
}
