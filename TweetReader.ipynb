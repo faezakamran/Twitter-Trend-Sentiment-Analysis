{
 "cells": [
  {
   "cell_type": "markdown",
   "id": "18fceb57",
   "metadata": {},
   "source": [
    "Reads CSV in RO mode and process tweets"
   ]
  },
  {
   "cell_type": "code",
   "execution_count": 1,
   "id": "0c048e73",
   "metadata": {},
   "outputs": [],
   "source": [
    "#Import libs\n",
    "import pandas as pd\n",
    "import math\n",
    "import time\n",
    "import random\n",
    "import re\n",
    "\n",
    "import tkinter as tk\n",
    "import tkinter.font as tkFont\n",
    "import tkinter.scrolledtext as st\n",
    "\n",
    "from tkinter import ttk\n",
    "from PIL import ImageTk, Image"
   ]
  },
  {
   "cell_type": "markdown",
   "id": "077000a7",
   "metadata": {},
   "source": [
    "#### GLOBALS"
   ]
  },
  {
   "cell_type": "code",
   "execution_count": 2,
   "id": "fc36412f",
   "metadata": {},
   "outputs": [],
   "source": [
    "tweetframeleft = None\n",
    "tweetframeright = None\n"
   ]
  },
  {
   "cell_type": "markdown",
   "id": "f1eaf3f2",
   "metadata": {},
   "source": [
    "#### FUNCTIONS"
   ]
  },
  {
   "cell_type": "code",
   "execution_count": 3,
   "id": "2fa98f9c",
   "metadata": {},
   "outputs": [],
   "source": [
    "#calc bar. Converts percent to number of charters. 20chars = 100%\n",
    "def calcbar(senti, percent):\n",
    "    \n",
    "    bg='lightgreen'\n",
    "    if senti.upper() == 'NEGATIVE':\n",
    "        bg='red'\n",
    "    \n",
    "    #convert float value to percent 0.84545454 to 80\n",
    "    percent = int(percent * 100)\n",
    "    \n",
    "    #handle incorrect value\n",
    "    if percent > 100 or percent < 0 :\n",
    "        percent = 50\n",
    "        \n",
    "    width = math.ceil(percent/5)\n",
    "    \n",
    "    barvars = {\"bg\": bg, \"width\": width}\n",
    "    \n",
    "    return barvars\n",
    "    "
   ]
  },
  {
   "cell_type": "code",
   "execution_count": 4,
   "id": "8aafbe8c",
   "metadata": {},
   "outputs": [],
   "source": [
    "#Insert a tweet line\n",
    "def tweetline(row, senti, sentival, right, handle, txt):\n",
    "    global tweetframeright\n",
    "    global tweetframeleft\n",
    "    \n",
    "    #tmp line textbox righ\n",
    "    if right == True:\n",
    "        tmptbright = tk.Text(tweetframeright, height = 1, width = 76, relief=\"flat\", font=tweetfont)\n",
    "    else:\n",
    "        tmptbright = tk.Text(tweetframeleft, height = 1, width = 76, relief=\"flat\", font=tweetfont)\n",
    "    \n",
    "    tmptbright.grid(row=row, column=0)\n",
    "    tmptbright.grid_propagate(0)\n",
    "\n",
    "    #tweet user right\n",
    "    lblhandleright = tk.Label(tmptbright, text=handle, width = 13, fg=\"blue\", bg=\"#fee440\", relief=\"flat\", font=tweetfont, anchor=\"w\")\n",
    "    lblhandleright.grid(row=row, column=0)\n",
    "\n",
    "    #tweet text\n",
    "    lbltweetright = tk.Label(tmptbright, text=txt, width = 33, fg=\"grey\", bg=\"#fee440\", relief=\"flat\", font=tweetfont, anchor=\"w\")\n",
    "    lbltweetright.grid(row=row, column=1, padx='2')\n",
    "\n",
    "    #tweet bar right\n",
    "    barvars = calcbar(senti, sentival)\n",
    "    \n",
    "    lblbarright = tk.Label(tmptbright, text=\" \", width=barvars[\"width\"], bg=barvars[\"bg\"], relief=\"flat\", font=barfont)\n",
    "    lblbarright.grid(row=row, column=2, padx='2')  \n"
   ]
  },
  {
   "cell_type": "code",
   "execution_count": 5,
   "id": "797a5cac",
   "metadata": {},
   "outputs": [],
   "source": [
    "#removes top most item from right frame\n",
    "def removefromrightframe():\n",
    "    global tweetframeright\n",
    "    \n",
    "    l=list(tweetframeright.grid_slaves(column=0))\n",
    "    l[-1].grid_forget()\n",
    "    return\n"
   ]
  },
  {
   "cell_type": "code",
   "execution_count": 6,
   "id": "e3dbd312",
   "metadata": {},
   "outputs": [],
   "source": [
    "#clean string\n",
    "def cleanstring(s):\n",
    "    return re.sub('\\W+',' ', s )\n"
   ]
  },
  {
   "cell_type": "code",
   "execution_count": 7,
   "id": "d2ccd50a",
   "metadata": {},
   "outputs": [],
   "source": [
    "#### READ LOOP\n",
    "def readtweets():\n",
    "    df = pd.read_csv('tweets-trend1.csv', header=None)\n",
    "    #READ THE OTHER FILE HERE FOR LEFT PANEL\n",
    "    df.head()\n",
    "    rn = 0  #row number for grid by local logic (0-10)\n",
    "    \n",
    "    for row in df.itertuples(index=False, name='Pandas'):\n",
    "        #print(row)\n",
    "        tm = row._0 #date time and zone\n",
    "        handle = row._1 #twitter handle\n",
    "        txt = row._2  #tweet content\n",
    "        senti = row._3 #sentiment e.g Neutral \n",
    "        sentival = row._4  #sentiment numerial value\n",
    "        \n",
    "        #If text is not english, move on\n",
    "        if not handle.isascii():\n",
    "            continue\n",
    "        \n",
    "        if rn > 10:\n",
    "            removefromrightframe()\n",
    "        rn += 1\n",
    "        txt = cleanstring(txt[:45])    #first 45 chars of tweet\n",
    "        handle = cleanstring(handle)\n",
    "        \n",
    "        tweetline(rn, senti, sentival, True, handle, txt)\n",
    "\n",
    "        root.update_idletasks()\n",
    "        tweetframeright.update()\n",
    "        \n",
    "        stime = (random.randint(300, 2000)/1000)  #milliseconds to seconds\n",
    "        time.sleep(stime)"
   ]
  },
  {
   "cell_type": "markdown",
   "id": "9054941a",
   "metadata": {},
   "source": [
    "# 1280 x 720"
   ]
  },
  {
   "cell_type": "code",
   "execution_count": 8,
   "id": "b6af5736",
   "metadata": {},
   "outputs": [],
   "source": [
    "#create root window\n",
    "root = tk.Tk()\n",
    "root.geometry('1280x720')\n",
    "root.resizable(False, False)\n",
    "\n",
    "#create left base frame\n",
    "bfl = tk.LabelFrame(root, text=\"   PTI Trends\", padx=5, pady=4, width=634, height=710)\n",
    "bfl.grid(row=0, column=0, padx=3)\n",
    "bfl.grid_propagate(0)\n",
    "\n",
    "#create right base frame\n",
    "bfr = tk.LabelFrame(root, text=\"   PML(N)++ Trends\", padx=5, pady=4, width=634, height=710)\n",
    "bfr.grid(row=0, column=1, padx=3)\n",
    "bfr.grid_propagate(0)\n",
    "\n",
    "#setup fonts\n",
    "tweetfont = tkFont.Font(family=\"Times New Roman\",size=12)\n",
    "barfont = tkFont.Font(family=\"Times New Roman\",size=12)\n"
   ]
  },
  {
   "cell_type": "code",
   "execution_count": 9,
   "id": "a0d7b065",
   "metadata": {},
   "outputs": [],
   "source": [
    "#frame to hold word images\n",
    "imgframehandle = tk.Frame(bfl, width=600, height=150)\n",
    "imgframehandle.grid(row=0, column=0)\n",
    "imgframehandle.grid_propagate(0)\n"
   ]
  },
  {
   "cell_type": "code",
   "execution_count": 10,
   "id": "a9633f2e",
   "metadata": {},
   "outputs": [],
   "source": [
    "# Create an object of tkinter ImageTk\n",
    "imguser = ImageTk.PhotoImage(Image.open(\"wcuser_trend1.png\"))\n",
    "\n",
    "# Create a Label Widget to display the text or Image\n",
    "lblwcuser = tk.Label(imgframehandle, image=imguser)\n",
    "lblwcuser.grid(row=0, column=0)\n"
   ]
  },
  {
   "cell_type": "code",
   "execution_count": 11,
   "id": "b7db6633",
   "metadata": {},
   "outputs": [],
   "source": [
    "#image frame country\n",
    "imgframecountry = tk.Frame(bfl, width=600, height=100)\n",
    "imgframecountry.grid(row=0, column=0)\n",
    "imgframecountry.grid_propagate(0)\n",
    "\n",
    "imgcountry = ImageTk.PhotoImage(Image.open(\"wccountry_trend1.png\"))\n",
    "\n",
    "lblwccountry = tk.Label(imgframecountry, image=imgcountry)\n",
    "lblwccountry.grid(row=0, column=0)\n",
    "\n"
   ]
  },
  {
   "cell_type": "markdown",
   "id": "baae9776",
   "metadata": {},
   "source": [
    "#RIGHT PANEL"
   ]
  },
  {
   "cell_type": "code",
   "execution_count": 12,
   "id": "42e83904",
   "metadata": {},
   "outputs": [],
   "source": [
    "#tweet frame right  (Holds 11 items)\n",
    "tweetframeright = tk.LabelFrame(bfr, width=620, height=258, bg=\"lightgreen\")\n",
    "tweetframeright.grid()\n",
    "tweetframeright.grid_propagate(0)\n",
    "\n",
    "\n"
   ]
  },
  {
   "cell_type": "code",
   "execution_count": 13,
   "id": "b1993ce7",
   "metadata": {},
   "outputs": [
    {
     "ename": "TclError",
     "evalue": "can't invoke \"grid\" command: application has been destroyed",
     "output_type": "error",
     "traceback": [
      "\u001b[1;31m---------------------------------------------------------------------------\u001b[0m",
      "\u001b[1;31mTclError\u001b[0m                                  Traceback (most recent call last)",
      "\u001b[1;32m~\\AppData\\Local\\Temp/ipykernel_1216/2036914174.py\u001b[0m in \u001b[0;36m<module>\u001b[1;34m\u001b[0m\n\u001b[0;32m      1\u001b[0m \u001b[1;31m#GUI loop\u001b[0m\u001b[1;33m\u001b[0m\u001b[1;33m\u001b[0m\u001b[0m\n\u001b[1;32m----> 2\u001b[1;33m \u001b[0mroot\u001b[0m\u001b[1;33m.\u001b[0m\u001b[0mafter\u001b[0m\u001b[1;33m(\u001b[0m\u001b[1;36m3000\u001b[0m\u001b[1;33m,\u001b[0m \u001b[0mreadtweets\u001b[0m\u001b[1;33m(\u001b[0m\u001b[1;33m)\u001b[0m\u001b[1;33m)\u001b[0m\u001b[1;33m\u001b[0m\u001b[1;33m\u001b[0m\u001b[0m\n\u001b[0m\u001b[0;32m      3\u001b[0m \u001b[0mroot\u001b[0m\u001b[1;33m.\u001b[0m\u001b[0mmainloop\u001b[0m\u001b[1;33m(\u001b[0m\u001b[1;33m)\u001b[0m\u001b[1;33m\u001b[0m\u001b[1;33m\u001b[0m\u001b[0m\n",
      "\u001b[1;32m~\\AppData\\Local\\Temp/ipykernel_1216/3811573155.py\u001b[0m in \u001b[0;36mreadtweets\u001b[1;34m()\u001b[0m\n\u001b[0;32m     19\u001b[0m \u001b[1;33m\u001b[0m\u001b[0m\n\u001b[0;32m     20\u001b[0m         \u001b[1;32mif\u001b[0m \u001b[0mrn\u001b[0m \u001b[1;33m>\u001b[0m \u001b[1;36m10\u001b[0m\u001b[1;33m:\u001b[0m\u001b[1;33m\u001b[0m\u001b[1;33m\u001b[0m\u001b[0m\n\u001b[1;32m---> 21\u001b[1;33m             \u001b[0mremovefromrightframe\u001b[0m\u001b[1;33m(\u001b[0m\u001b[1;33m)\u001b[0m\u001b[1;33m\u001b[0m\u001b[1;33m\u001b[0m\u001b[0m\n\u001b[0m\u001b[0;32m     22\u001b[0m         \u001b[0mrn\u001b[0m \u001b[1;33m+=\u001b[0m \u001b[1;36m1\u001b[0m\u001b[1;33m\u001b[0m\u001b[1;33m\u001b[0m\u001b[0m\n\u001b[0;32m     23\u001b[0m         \u001b[0mtxt\u001b[0m \u001b[1;33m=\u001b[0m \u001b[0mcleanstring\u001b[0m\u001b[1;33m(\u001b[0m\u001b[0mtxt\u001b[0m\u001b[1;33m[\u001b[0m\u001b[1;33m:\u001b[0m\u001b[1;36m45\u001b[0m\u001b[1;33m]\u001b[0m\u001b[1;33m)\u001b[0m    \u001b[1;31m#first 45 chars of tweet\u001b[0m\u001b[1;33m\u001b[0m\u001b[1;33m\u001b[0m\u001b[0m\n",
      "\u001b[1;32m~\\AppData\\Local\\Temp/ipykernel_1216/2549030497.py\u001b[0m in \u001b[0;36mremovefromrightframe\u001b[1;34m()\u001b[0m\n\u001b[0;32m      3\u001b[0m     \u001b[1;32mglobal\u001b[0m \u001b[0mtweetframeright\u001b[0m\u001b[1;33m\u001b[0m\u001b[1;33m\u001b[0m\u001b[0m\n\u001b[0;32m      4\u001b[0m \u001b[1;33m\u001b[0m\u001b[0m\n\u001b[1;32m----> 5\u001b[1;33m     \u001b[0ml\u001b[0m\u001b[1;33m=\u001b[0m\u001b[0mlist\u001b[0m\u001b[1;33m(\u001b[0m\u001b[0mtweetframeright\u001b[0m\u001b[1;33m.\u001b[0m\u001b[0mgrid_slaves\u001b[0m\u001b[1;33m(\u001b[0m\u001b[0mcolumn\u001b[0m\u001b[1;33m=\u001b[0m\u001b[1;36m0\u001b[0m\u001b[1;33m)\u001b[0m\u001b[1;33m)\u001b[0m\u001b[1;33m\u001b[0m\u001b[1;33m\u001b[0m\u001b[0m\n\u001b[0m\u001b[0;32m      6\u001b[0m     \u001b[0ml\u001b[0m\u001b[1;33m[\u001b[0m\u001b[1;33m-\u001b[0m\u001b[1;36m1\u001b[0m\u001b[1;33m]\u001b[0m\u001b[1;33m.\u001b[0m\u001b[0mgrid_forget\u001b[0m\u001b[1;33m(\u001b[0m\u001b[1;33m)\u001b[0m\u001b[1;33m\u001b[0m\u001b[1;33m\u001b[0m\u001b[0m\n\u001b[0;32m      7\u001b[0m     \u001b[1;32mreturn\u001b[0m\u001b[1;33m\u001b[0m\u001b[1;33m\u001b[0m\u001b[0m\n",
      "\u001b[1;32mC:\\ProgramData\\Anaconda3\\lib\\tkinter\\__init__.py\u001b[0m in \u001b[0;36mgrid_slaves\u001b[1;34m(self, row, column)\u001b[0m\n\u001b[0;32m   1831\u001b[0m             \u001b[0margs\u001b[0m \u001b[1;33m=\u001b[0m \u001b[0margs\u001b[0m \u001b[1;33m+\u001b[0m \u001b[1;33m(\u001b[0m\u001b[1;34m'-column'\u001b[0m\u001b[1;33m,\u001b[0m \u001b[0mcolumn\u001b[0m\u001b[1;33m)\u001b[0m\u001b[1;33m\u001b[0m\u001b[1;33m\u001b[0m\u001b[0m\n\u001b[0;32m   1832\u001b[0m         return [self._nametowidget(x) for x in\n\u001b[1;32m-> 1833\u001b[1;33m                 self.tk.splitlist(self.tk.call(\n\u001b[0m\u001b[0;32m   1834\u001b[0m                    ('grid', 'slaves', self._w) + args))]\n\u001b[0;32m   1835\u001b[0m \u001b[1;33m\u001b[0m\u001b[0m\n",
      "\u001b[1;31mTclError\u001b[0m: can't invoke \"grid\" command: application has been destroyed"
     ]
    }
   ],
   "source": [
    "#GUI loop\n",
    "root.after(3000, readtweets())\n",
    "root.mainloop()\n"
   ]
  },
  {
   "cell_type": "code",
   "execution_count": null,
   "id": "8af7575d",
   "metadata": {},
   "outputs": [],
   "source": []
  }
 ],
 "metadata": {
  "kernelspec": {
   "display_name": "Python 3 (ipykernel)",
   "language": "python",
   "name": "python3"
  },
  "language_info": {
   "codemirror_mode": {
    "name": "ipython",
    "version": 3
   },
   "file_extension": ".py",
   "mimetype": "text/x-python",
   "name": "python",
   "nbconvert_exporter": "python",
   "pygments_lexer": "ipython3",
   "version": "3.9.7"
  }
 },
 "nbformat": 4,
 "nbformat_minor": 5
}
